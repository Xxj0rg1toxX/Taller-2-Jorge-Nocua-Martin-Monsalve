{
 "cells": [
  {
   "cell_type": "code",
   "execution_count": null,
   "metadata": {},
   "outputs": [
    {
     "name": "stdout",
     "output_type": "stream",
     "text": [
      "ingrese 2 números \n",
      "80\n"
     ]
    }
   ],
   "source": [
    " #Ejercicio uno, vender pan\n",
    "#1.El cliente llega a pedir cierta cantidad de pan.10ss\n",
    "#2.Nos dice la cantidad de pan.\n",
    "#3.Se le entrega el pan.\n",
    "\n",
    "pan= 2000\n",
    "Entrada = \"Buenos días, cuanto de pan quieres:\"\n",
    "print (Entrada)\n",
    "#esta es la entrada\n",
    "cantidad = int(input())  \n",
    "proceso =  cantidad // 400\n",
    "#esta es la salida\n",
    "print (f\"Toma tus {proceso} panes\")"
   ]
  },
  {
   "cell_type": "code",
   "execution_count": null,
   "metadata": {},
   "outputs": [],
   "source": [
    "#Ejercicio2 Medir la temperatura ambiente \n",
    "#Daniel mira el termometro de la casaa\n",
    "#Daniel quiere saber en cuanto esta el clima en grados Fahrenheit\n",
    "#Daniel recibe la converción \n",
    "\n",
    "Entrada = \"Converición de grados Celcius a Farenheit, coloca los grados celcius:\"\n",
    "print (Entrada)\n",
    "#esta es la entrada\n",
    "gradosC = int(input())  \n",
    "converción =  ((gradosC  * 9)/5) + 32\n",
    "#esta es la salida\n",
    "print (f\"La temperatura es de {converción} grados Farenheit\")\n"
   ]
  },
  {
   "cell_type": "code",
   "execution_count": 5,
   "metadata": {},
   "outputs": [
    {
     "name": "stdout",
     "output_type": "stream",
     "text": [
      "Dime tus valores a, b, c\n"
     ]
    },
    {
     "ename": "TypeError",
     "evalue": "type complex doesn't define __round__ method",
     "output_type": "error",
     "traceback": [
      "\u001b[1;31m---------------------------------------------------------------------------\u001b[0m",
      "\u001b[1;31mTypeError\u001b[0m                                 Traceback (most recent call last)",
      "Cell \u001b[1;32mIn[5], line 19\u001b[0m\n\u001b[0;32m     16\u001b[0m parte3 \u001b[38;5;241m=\u001b[39m \u001b[38;5;241m-\u001b[39m\u001b[38;5;241m4\u001b[39m \u001b[38;5;241m*\u001b[39m a \u001b[38;5;241m*\u001b[39m c\n\u001b[0;32m     17\u001b[0m parte4 \u001b[38;5;241m=\u001b[39m \u001b[38;5;241m2\u001b[39m\u001b[38;5;241m*\u001b[39ma\n\u001b[1;32m---> 19\u001b[0m proceso1 \u001b[38;5;241m=\u001b[39m \u001b[38;5;28;43mround\u001b[39;49m\u001b[43m(\u001b[49m\u001b[43m(\u001b[49m\u001b[43mparte2\u001b[49m\u001b[43m \u001b[49m\u001b[38;5;241;43m+\u001b[39;49m\u001b[43m \u001b[49m\u001b[43mparte3\u001b[49m\u001b[43m)\u001b[49m\u001b[38;5;241;43m*\u001b[39;49m\u001b[38;5;241;43m*\u001b[39;49m\u001b[43m \u001b[49m\u001b[38;5;241;43m0.5\u001b[39;49m\u001b[43m,\u001b[49m\u001b[43m \u001b[49m\u001b[38;5;241;43m2\u001b[39;49m\u001b[43m)\u001b[49m\n\u001b[0;32m     20\u001b[0m resultado1 \u001b[38;5;241m=\u001b[39m (\u001b[38;5;241m-\u001b[39mb \u001b[38;5;241m-\u001b[39m proceso1) \u001b[38;5;241m/\u001b[39m parte4\n\u001b[0;32m     21\u001b[0m resultado2 \u001b[38;5;241m=\u001b[39m (\u001b[38;5;241m-\u001b[39mb \u001b[38;5;241m+\u001b[39m proceso1) \u001b[38;5;241m/\u001b[39m parte4\n",
      "\u001b[1;31mTypeError\u001b[0m: type complex doesn't define __round__ method"
     ]
    }
   ],
   "source": [
    "#Ejercicio 3 función cuadratica\n",
    "#David necesita usar la formula cuadratica\n",
    "#El mismo identifica a, b, y c\n",
    "#utilizo la funcion cuadratica pero por partes\n",
    "#luego las uno\n",
    "#El recibe el resultado\n",
    "import math\n",
    "print (\"Dime tus valores a, b, c\")\n",
    "#entrada\n",
    "a = float(input())\n",
    "b = float(input())\n",
    "c = float(input())\n",
    "\n",
    "parte1 = -b\n",
    "parte2 = b**2\n",
    "parte3 = -4 * a * c\n",
    "parte4 = 2*a\n",
    "\n",
    "proceso1 = round((parte2 + parte3)** 0.5, 2)\n",
    "resultado1 = (-b - proceso1) / parte4\n",
    "resultado2 = (-b + proceso1) / parte4\n",
    "total1 = round (resultado1, 2)\n",
    "total2 = round (resultado2, 2)\n",
    "#salida\n",
    "\n",
    "print (f\"Tu tienes dos resultados, {total1} y {total2}\")"
   ]
  },
  {
   "cell_type": "code",
   "execution_count": 8,
   "metadata": {},
   "outputs": [
    {
     "name": "stdout",
     "output_type": "stream",
     "text": [
      "dame 2 números\n",
      "7\n"
     ]
    }
   ],
   "source": [
    "#Ejercicio 4 Hacer una suma en una calculadora\n",
    "#1. La calculadora le pide 2 números\n",
    "#2. el usuario ingresa 2 números\n",
    "#3. Le arroja el resulado\n",
    "\n",
    "print(\"dame 2 números\")\n",
    "#Entrada\n",
    "a = int (input())\n",
    "b = int (input())\n",
    "suma = a + b \n",
    "#Salida\n",
    "print(suma)\n"
   ]
  },
  {
   "cell_type": "code",
   "execution_count": 9,
   "metadata": {},
   "outputs": [
    {
     "name": "stdout",
     "output_type": "stream",
     "text": [
      "ingrese 2 números \n",
      "5.0\n"
     ]
    }
   ],
   "source": [
    "#Teorema de pitagoras\n",
    "\n",
    "print(\"ingrese 2 números \")\n",
    "a = int(input())\n",
    "b = int(input())\n",
    "\n",
    "proceso1= (a**2 + b**2)**0.5\n",
    "\n",
    "print (f\"{proceso1}\")"
   ]
  },
  {
   "cell_type": "code",
   "execution_count": 5,
   "metadata": {},
   "outputs": [
    {
     "name": "stdout",
     "output_type": "stream",
     "text": [
      "ingrese el número de piso:\n",
      "El tiempo de caida es 3.6697247706422016 segundos\n"
     ]
    }
   ],
   "source": [
    "#2 Un edificio tiene 10 pisos y cada piso mide dos metros.\n",
    "#se va a tirar una manzana desde cualquier piso del edificio.\n",
    "#haz una función que indica cuanto se demora en caer la manzana dependiendo del piso que elija\n",
    "\n",
    "Datos = ((\"ingrese el número de piso:\"))\n",
    "print (Datos)\n",
    "piso = int(input(\"ingrese el número de piso\"))\n",
    "g = 9.81\n",
    "altura =  piso * 2\n",
    "Tiempo = ((2 * altura) / g)\n",
    "print (f\"El tiempo de caida es {Tiempo} segundos\")"
   ]
  },
  {
   "cell_type": "code",
   "execution_count": 1,
   "metadata": {},
   "outputs": [
    {
     "name": "stdout",
     "output_type": "stream",
     "text": [
      "ingrese número lado 1\n",
      "ingrese número lado 2\n",
      "ingrese número lado 3\n",
      "ingrese número lado 4\n"
     ]
    },
    {
     "ename": "KeyboardInterrupt",
     "evalue": "Interrupted by user",
     "output_type": "error",
     "traceback": [
      "\u001b[1;31m---------------------------------------------------------------------------\u001b[0m",
      "\u001b[1;31mKeyboardInterrupt\u001b[0m                         Traceback (most recent call last)",
      "Cell \u001b[1;32mIn[1], line 12\u001b[0m\n\u001b[0;32m      8\u001b[0m \u001b[38;5;28mprint\u001b[39m (\u001b[38;5;124m\"\u001b[39m\u001b[38;5;124mingrese número lado 3\u001b[39m\u001b[38;5;124m\"\u001b[39m)\n\u001b[0;32m      9\u001b[0m \u001b[38;5;28mprint\u001b[39m (\u001b[38;5;124m\"\u001b[39m\u001b[38;5;124mingrese número lado 4\u001b[39m\u001b[38;5;124m\"\u001b[39m)\n\u001b[1;32m---> 12\u001b[0m lado1 \u001b[38;5;241m=\u001b[39m \u001b[38;5;28mfloat\u001b[39m(\u001b[38;5;28;43minput\u001b[39;49m\u001b[43m(\u001b[49m\u001b[43m)\u001b[49m)\n\u001b[0;32m     13\u001b[0m lado2 \u001b[38;5;241m=\u001b[39m \u001b[38;5;28mfloat\u001b[39m(\u001b[38;5;28minput\u001b[39m())\n\u001b[0;32m     14\u001b[0m lado3 \u001b[38;5;241m=\u001b[39m \u001b[38;5;28mfloat\u001b[39m(\u001b[38;5;28minput\u001b[39m())\n",
      "File \u001b[1;32m~\\AppData\\Roaming\\Python\\Python313\\site-packages\\ipykernel\\kernelbase.py:1282\u001b[0m, in \u001b[0;36mKernel.raw_input\u001b[1;34m(self, prompt)\u001b[0m\n\u001b[0;32m   1280\u001b[0m     msg \u001b[38;5;241m=\u001b[39m \u001b[38;5;124m\"\u001b[39m\u001b[38;5;124mraw_input was called, but this frontend does not support input requests.\u001b[39m\u001b[38;5;124m\"\u001b[39m\n\u001b[0;32m   1281\u001b[0m     \u001b[38;5;28;01mraise\u001b[39;00m StdinNotImplementedError(msg)\n\u001b[1;32m-> 1282\u001b[0m \u001b[38;5;28;01mreturn\u001b[39;00m \u001b[38;5;28;43mself\u001b[39;49m\u001b[38;5;241;43m.\u001b[39;49m\u001b[43m_input_request\u001b[49m\u001b[43m(\u001b[49m\n\u001b[0;32m   1283\u001b[0m \u001b[43m    \u001b[49m\u001b[38;5;28;43mstr\u001b[39;49m\u001b[43m(\u001b[49m\u001b[43mprompt\u001b[49m\u001b[43m)\u001b[49m\u001b[43m,\u001b[49m\n\u001b[0;32m   1284\u001b[0m \u001b[43m    \u001b[49m\u001b[38;5;28;43mself\u001b[39;49m\u001b[38;5;241;43m.\u001b[39;49m\u001b[43m_parent_ident\u001b[49m\u001b[43m[\u001b[49m\u001b[38;5;124;43m\"\u001b[39;49m\u001b[38;5;124;43mshell\u001b[39;49m\u001b[38;5;124;43m\"\u001b[39;49m\u001b[43m]\u001b[49m\u001b[43m,\u001b[49m\n\u001b[0;32m   1285\u001b[0m \u001b[43m    \u001b[49m\u001b[38;5;28;43mself\u001b[39;49m\u001b[38;5;241;43m.\u001b[39;49m\u001b[43mget_parent\u001b[49m\u001b[43m(\u001b[49m\u001b[38;5;124;43m\"\u001b[39;49m\u001b[38;5;124;43mshell\u001b[39;49m\u001b[38;5;124;43m\"\u001b[39;49m\u001b[43m)\u001b[49m\u001b[43m,\u001b[49m\n\u001b[0;32m   1286\u001b[0m \u001b[43m    \u001b[49m\u001b[43mpassword\u001b[49m\u001b[38;5;241;43m=\u001b[39;49m\u001b[38;5;28;43;01mFalse\u001b[39;49;00m\u001b[43m,\u001b[49m\n\u001b[0;32m   1287\u001b[0m \u001b[43m\u001b[49m\u001b[43m)\u001b[49m\n",
      "File \u001b[1;32m~\\AppData\\Roaming\\Python\\Python313\\site-packages\\ipykernel\\kernelbase.py:1325\u001b[0m, in \u001b[0;36mKernel._input_request\u001b[1;34m(self, prompt, ident, parent, password)\u001b[0m\n\u001b[0;32m   1322\u001b[0m \u001b[38;5;28;01mexcept\u001b[39;00m \u001b[38;5;167;01mKeyboardInterrupt\u001b[39;00m:\n\u001b[0;32m   1323\u001b[0m     \u001b[38;5;66;03m# re-raise KeyboardInterrupt, to truncate traceback\u001b[39;00m\n\u001b[0;32m   1324\u001b[0m     msg \u001b[38;5;241m=\u001b[39m \u001b[38;5;124m\"\u001b[39m\u001b[38;5;124mInterrupted by user\u001b[39m\u001b[38;5;124m\"\u001b[39m\n\u001b[1;32m-> 1325\u001b[0m     \u001b[38;5;28;01mraise\u001b[39;00m \u001b[38;5;167;01mKeyboardInterrupt\u001b[39;00m(msg) \u001b[38;5;28;01mfrom\u001b[39;00m\u001b[38;5;250m \u001b[39m\u001b[38;5;28;01mNone\u001b[39;00m\n\u001b[0;32m   1326\u001b[0m \u001b[38;5;28;01mexcept\u001b[39;00m \u001b[38;5;167;01mException\u001b[39;00m:\n\u001b[0;32m   1327\u001b[0m     \u001b[38;5;28mself\u001b[39m\u001b[38;5;241m.\u001b[39mlog\u001b[38;5;241m.\u001b[39mwarning(\u001b[38;5;124m\"\u001b[39m\u001b[38;5;124mInvalid Message:\u001b[39m\u001b[38;5;124m\"\u001b[39m, exc_info\u001b[38;5;241m=\u001b[39m\u001b[38;5;28;01mTrue\u001b[39;00m)\n",
      "\u001b[1;31mKeyboardInterrupt\u001b[0m: Interrupted by user"
     ]
    }
   ],
   "source": [
    "\n",
    "#Una formula que me calcule el perímetro de un terreno cuadrilatero, se le tiene que dar al programa los 4 lados. \n",
    "# Ese terreno lo quieren encerrar con alambre de puas, \n",
    "# también quiero saber cuanto alambre necesito.\n",
    "\n",
    "Números = \"Perimetro\"\n",
    "print (\"ingrese número lado 1\")\n",
    "print (\"ingrese número lado 2\")\n",
    "print (\"ingrese número lado 3\")\n",
    "print (\"ingrese número lado 4\")\n",
    "\n",
    " \n",
    "lado1 = float(input())\n",
    "lado2 = float(input())\n",
    "lado3 = float(input())\n",
    "lado4 = float(input())\n",
    "\n",
    "perimetro = lado1 + lado2 + lado3 + lado4\n",
    "\n",
    "alambre = perimetro * 3\n",
    "\n",
    "print (f\"necesitas un alambre de {alambre} metros\")"
   ]
  },
  {
   "cell_type": "code",
   "execution_count": 7,
   "metadata": {},
   "outputs": [
    {
     "name": "stdout",
     "output_type": "stream",
     "text": [
      "ingrese un tiempo \n",
      "Esta fue la distancia que recorriste 75km \n"
     ]
    }
   ],
   "source": [
    "#Un ciclista viaja a 25 km/h durante un determinado tiempo. ¿Cuántos kilómetros recorrerá?\n",
    "Velocidad = 25 \n",
    "\n",
    "print (\"ingrese un tiempo \")\n",
    "Tiempo = int(input())\n",
    "Distancia =  Velocidad * Tiempo\n",
    "print (f\"Esta fue la distancia que recorriste {Distancia}km \")"
   ]
  },
  {
   "cell_type": "code",
   "execution_count": null,
   "metadata": {},
   "outputs": [
    {
     "name": "stdout",
     "output_type": "stream",
     "text": [
      "defina velocidadA\n",
      " Tiempo de alcance alcance: -5.0 horas\n",
      " Distancia recorrida por el coche B hasta el punto de alcance: -600.0 km\n"
     ]
    }
   ],
   "source": [
    "# calcule cuántos kilómetros ha recorrido el coche B cuando alcanza al coche A:\n",
    "\n",
    "velocidadB = 120  # km/h\n",
    "tiempoventajaA = 2  # horas\n",
    "\n",
    "print (\"defina velocidadA\")\n",
    "\n",
    "velocidadA = int (input())\n",
    "\n",
    "distanciainicialA = velocidadA * tiempoventajaA\n",
    "\n",
    "velocidad_relativa = velocidadB - velocidadA\n",
    "\n",
    "tiempoalcance = distanciainicialA / velocidad_relativa\n",
    "\n",
    "distanciaB = velocidadB * tiempoalcance\n",
    "\n",
    "print(f\" Tiempo de alcance alcance: {tiempoalcance} horas\")\n",
    "print(f\" Distancia recorrida por el coche B hasta el punto de alcance: {distanciaB} km\")"
   ]
  }
 ],
 "metadata": {
  "kernelspec": {
   "display_name": "Python 3",
   "language": "python",
   "name": "python3"
  },
  "language_info": {
   "codemirror_mode": {
    "name": "ipython",
    "version": 3
   },
   "file_extension": ".py",
   "mimetype": "text/x-python",
   "name": "python",
   "nbconvert_exporter": "python",
   "pygments_lexer": "ipython3",
   "version": "3.13.1"
  }
 },
 "nbformat": 4,
 "nbformat_minor": 2
}
